{
 "cells": [
  {
   "cell_type": "code",
   "execution_count": 116,
   "id": "64bfb2ee",
   "metadata": {},
   "outputs": [
    {
     "name": "stdout",
     "output_type": "stream",
     "text": [
      "[[1. 0.]\n",
      " [2. 1.]\n",
      " [2. 2.]]\n",
      "[1, 2, 2]\n",
      "i am counting the 0th digit of number 122\n",
      "\n",
      " there are  counts 1 of 1 s\n",
      "i am counting the 1th digit of number 122\n",
      "\n",
      " there are  counts 2 of 2 s\n",
      "i am counting the 2th digit of number 122\n",
      "\n",
      " there are  counts 2 of 2 s\n"
     ]
    }
   ],
   "source": [
    "import numpy as np\n",
    "\n",
    "\n",
    "num=122\n",
    "digits=str(num)\n",
    "length=len(str(num))\n",
    "\n",
    "\n",
    "#this is the array of occurence\n",
    "count_array=np.zeros((length,2))\n",
    "\n",
    "for i in range(length):\n",
    "    count_array[i,0]=digits[i]\n",
    "    count_array[i,1]=i\n",
    "    \n",
    "print(count_array)\n",
    "\n",
    "#there should be (count) of digits\n",
    "#generate a self-generating numebr according to count array\n",
    "dlist=[]\n",
    "for i in range(length):\n",
    "    dlist.append(int(digits[i]))\n",
    "    \n",
    "    \n",
    "print(dlist)\n",
    "\n",
    "for i in range(length):\n",
    "    if {dlist[i]}\n",
    "    count= countOccurrances(num, dlist[i])\n",
    "    print(f\"i am counting the {i}th digit of number {num}\\n\")\n",
    "    print(f\" there are  counts {count} of {dlist[i]} s\")\n",
    "        \n",
    "\n"
   ]
  },
  {
   "cell_type": "markdown",
   "id": "f0222221",
   "metadata": {},
   "source": [
    "First question was on self-describing number. A self-describing number is defined where each digit(labeled from 0 to n-1 starting from the leftmost digit) has a value that matches with how many times a certain digit number appeared in rest of the number. For example, 2020 is a self-describing number, since 2 = 2 0's, 0 = 0 1's, 2 = 2 2's, and 0 = 0 3's. Write a function that determines whether a number if self-describing or not.\n",
    "\n",
    "2 at 0 means there are 2 zeros\n",
    "0 at 1 means there's 0 ones\n",
    "2 at 2 means there are 2 twos\n",
    "0 at 3 means there's 0 threes\n",
    "\n",
    "loop through the digit, \n",
    "num=list(6210001000)\n",
    "list[0]=6   there should be 6 zeros\n",
    "list[i]=occurence   there should be (num of occurence) (i)s\n",
    "iterate through the num to count whether the occurence of the diigit is equal to i\n",
    "\n",
    "\n",
    "array of ([count, digit1 ] , [count, digit 2])\n",
    "\n",
    "\n",
    "def count \n",
    "digit=xxx\n",
    "for i in digit:\n",
    "   if count(i) !=count_array[i,1]\n",
    "   return false\n",
    "\n",
    "\n",
    "\n",
    "\n"
   ]
  },
  {
   "cell_type": "code",
   "execution_count": 81,
   "id": "081109af",
   "metadata": {},
   "outputs": [
    {
     "name": "stdout",
     "output_type": "stream",
     "text": [
      "3\n"
     ]
    }
   ],
   "source": [
    "def countOccurrances(n, d):\n",
    "    count = 0\n",
    " \n",
    "    # Loop to find the digits of N\n",
    "    while (n > 0):\n",
    " \n",
    "        # check if the digit is D\n",
    "        if(n % 10 == d):\n",
    "            count = count + 1\n",
    "  \n",
    "        n = n // 10\n",
    " \n",
    "    return count\n",
    " \n",
    "# Driver code\n",
    "d = 2\n",
    "n = 828282\n",
    "print(countOccurrances(n, d))\n",
    "        \n",
    "        "
   ]
  },
  {
   "cell_type": "code",
   "execution_count": null,
   "id": "49a1a7ad",
   "metadata": {},
   "outputs": [
    {
     "name": "stdout",
     "output_type": "stream",
     "text": [
      "1210 is self descriptive\n",
      "2020 is self descriptive\n",
      "21200 is self descriptive\n",
      "3211000 is self descriptive\n",
      "42101000 is self descriptive\n"
     ]
    }
   ],
   "source": [
    "\n",
    "# Function to check if the number is self descriptive\n",
    "def isSelfDescriptiveNumber(num):\n",
    " \n",
    "    str_ = str(num)\n",
    " \n",
    "    # A frequency table for all the digits\n",
    "    freq = [0 for _ in range(10)]\n",
    " \n",
    "    # Building the frequency table for the number\n",
    "    while (num > 0):\n",
    "        freq[num % 10] += 1\n",
    "        num //= 10\n",
    " \n",
    "    for i in range(len(str_)):\n",
    "        if (freq[i] != int(str_[i])):\n",
    "            return 0\n",
    " \n",
    "    return 1\n",
    " \n",
    " \n",
    "# Driver Code\n",
    "\n"
   ]
  },
  {
   "cell_type": "code",
   "execution_count": null,
   "id": "b93e1f7f",
   "metadata": {},
   "outputs": [],
   "source": []
  }
 ],
 "metadata": {
  "kernelspec": {
   "display_name": "Python 3 (ipykernel)",
   "language": "python",
   "name": "python3"
  },
  "language_info": {
   "codemirror_mode": {
    "name": "ipython",
    "version": 3
   },
   "file_extension": ".py",
   "mimetype": "text/x-python",
   "name": "python",
   "nbconvert_exporter": "python",
   "pygments_lexer": "ipython3",
   "version": "3.9.12"
  }
 },
 "nbformat": 4,
 "nbformat_minor": 5
}
